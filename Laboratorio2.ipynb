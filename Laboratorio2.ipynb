{
 "cells": [
  {
   "cell_type": "markdown",
   "metadata": {},
   "source": [
    "Universidad del valle de Guatemala  \n",
    "Dpto. Ciencias de la computacion  \n",
    "Inteligencia Artificial  \n",
    "Alberto Suriano  \n",
    "\n",
    "Laboratorio 2 \n",
    "Andres Quinto - 18288  "
   ]
  },
  {
   "cell_type": "markdown",
   "metadata": {},
   "source": [
    "## TASK 1 - Preguntas teóricas\n",
    "\n",
    "1. ¿Por qué el modelo de Naive Bayes se le considera \"naive\"?  \n",
    "\n",
    "    - Se le considera \"naive\" debido a que el algoritmo asume que la presencia o ausencia de una característica no está influenciada por la presencia o ausencia de otras características en el conjunto de datos. En el problema de SPAM & HAM podemos verlo reflejado en que trata a todas las palabras de igual forma no importa el orden en el que esten en una oracion, esto, debido a que Naive Bayes trata al lenguaje como una bolsa de palabras y cada mensaje siendo una parte random de lo que esta dentro de la bolsa. (Informacion sacada del video de naive bayes del modulo de esta semana)\n",
    "    [(Naive Bayes, Clearly Explained, 2021)](https://www.youtube.com/watch?v=O2L2Uv9pdDA)   \n",
    "    \n",
    "2. Explique la formulación matemática que se busca optimizar en Support Vector Machine, además responda ¿cómo funciona el truco del Kernel para este modelo? (Lo que se espera de esta pregunta es que puedan explicar en sus propias palabras la fórmula a la que llegamos que debemos optimizar de SVM en clase) \n",
    "   \n",
    "    - Lo que trata SVM es mover la data a espacios con mayor dimensiones. Con ello obtenemos dos cosas importantes que son lo que se busca optimizar, un hiperplano y un margen. SVM intenta encontrar un hiperplano que separe de manera óptima las dos clases. El objetivo de la formulación se centra en maximizar el margen entre las clases.  \n",
    "    \n",
    "    La definicion del plano, que en este caso es la linea divisoria que nos ayuda a clasificar esta dada por:  \n",
    "    $$ w^Tx + b = 0  \n",
    "    $$\n",
    "    Donde:\n",
    "    1. w es el vector de pesos.\n",
    "    2. x es el vector de características.\n",
    "    3. b es el sesgo.\n",
    "\n",
    "    La condición de clasificación para un punto de datos es:\n",
    "\n",
    "    $$ y_i = \\text{sign}(w^Tx_i + b)$$\n",
    "\n",
    "    El objetivo es maximizar el margen, sin embargo, para facilitar la optimización, se minimiza  $$ 1/2 ||w||^2$$ sujeto a restricciones que todos los puntos de datos se clasifique correctamente:\n",
    "    $$ y_i(w^Tx_i + b) \\geq 1, \\quad \\text{para todo } i$$\n",
    "\n",
    "    Formulación del Problema de Optimización con Multiplicadores de Lagrange  \n",
    "    \n",
    "    - Multiplicadores de Lagrange: Se utilizan para incorporar estas restricciones en la función objetivo.  \n",
    "    - Función Lagrangiana: Combina la función objetivo y las restricciones, cada una ponderada por un multiplicador de Lagrange.  \n",
    "    - Minimizar la Lagrangiana: Encontramos: $$ w, b, α $$(multiplicadores de Lagrange) que minimicen la función Lagrangiana.  \n",
    "    \n",
    "    Introduciendo los multiplicadores de Lagrange $$( \\alpha_i \\geq 0 )$$ la función Lagrangiana $$( L ) $$ es:  \n",
    "    $$[ L(w, b, \\alpha) = \\frac{1}{2}\\|w\\|^2 - \\sum_{i=1}^n \\alpha_i [y_i(w^Tx_i + b) - 1] ]$$  \n",
    "\n",
    "    Esto es util por que convierte todo nuestro problema en uno de optimización estándar (programación cuadrática), ademas de transformar un problema de optimización con restricciones en uno manejable, permitiendo soluciones óptimas eficientes y aplicables a problemas lineales y no lineales.  \n",
    "    \n",
    "    [(Rogers, S., & Girolami, M, 2016)](https://github.com/wwkenwong/book/blob/master/Simon%20Rogers%2C%20Mark%20Girolami%20A%20First%20Course%20in%20Machine%20Learning.pdf)  \n",
    "\n",
    "3. Investigue sobre Random Forest y responda:  \n",
    "a. ¿Qué tipo de ensemble learning es este modelo?  \n",
    "b. ¿Cuál es la idea general detrás de Random Forest?  \n",
    "c. ¿Por qué se busca baja correlación entre los árboles de Random Forest?  \n"
   ]
  }
 ],
 "metadata": {
  "language_info": {
   "name": "python"
  }
 },
 "nbformat": 4,
 "nbformat_minor": 2
}
